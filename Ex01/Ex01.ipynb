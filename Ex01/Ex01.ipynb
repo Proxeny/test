{
 "cells": [
  {
   "cell_type": "markdown",
   "metadata": {},
   "source": [
    "# Задание 1"
   ]
  },
  {
   "cell_type": "markdown",
   "metadata": {},
   "source": [
    "Даны 2 переменных, в которых хранятся строки произвольной длины: phrase_1 и phrase_2.\n",
    "Напишите код, который проверяет какая из этих строк длиннее.\n",
    "\n",
    "Примеры работы программы:\n",
    "\n",
    "phrase_1 = 'Насколько проще было бы писать программы, если бы не заказчики'\n",
    "phrase_2 = '640Кб должно хватить для любых задач. Билл Гейтс (по легенде)'\n",
    "Результат:\n",
    "Фраза 1 длиннее фразы 2"
   ]
  },
  {
   "cell_type": "code",
   "execution_count": null,
   "metadata": {},
   "outputs": [],
   "source": [
    "phrase_1 = input('Введите фразу 1: ')\n",
    "phrase_2 = input('Введите фразу 2: ')\n",
    "if len(phrase_1) > len(phrase_2):\n",
    "    print ('Фраза 1 длиннее фразы 2')\n",
    "elif len(phrase_1) == len(phrase_2):\n",
    "    print ('Фразы равной длины')\n",
    "else:\n",
    "    print ('Фраза 2 длиннее фразы 1')"
   ]
  },
  {
   "cell_type": "markdown",
   "metadata": {},
   "source": [
    "# Задание 2"
   ]
  },
  {
   "cell_type": "markdown",
   "metadata": {},
   "source": [
    "Дана переменная, в которой хранится четырехзначное число (год). Необходимо написать программу, которая выведет, является ли данный год високосным или обычным.\n",
    "\n",
    "Пример работы программы:\n",
    "\n",
    "year = 2020\n",
    "Результат:\n",
    "Високосный год\n",
    "\n",
    "year = 2019\n",
    "Результат:\n",
    "Обычный год"
   ]
  },
  {
   "cell_type": "markdown",
   "metadata": {},
   "source": [
    "<b><i>Сначался пытавлся найти способы проверки на количество знаков и, что введены цифры. Затем при поиске определения что такое Високосный год нашлис несколько решений задания. Всё равно разберу.</b></i>"
   ]
  },
  {
   "cell_type": "code",
   "execution_count": 7,
   "metadata": {},
   "outputs": [
    {
     "name": "stdout",
     "output_type": "stream",
     "text": [
      "Введите год: 2020\n",
      "Високосный год\n"
     ]
    }
   ],
   "source": [
    "yy = int(input('Введите год: '))\n",
    "if (yy % 4 == 0) and (yy % 100 != 0) or (yy % 400 == 0):\n",
    "    print('Високосный год')\n",
    "else:\n",
    "    print('Обычный год')"
   ]
  },
  {
   "cell_type": "markdown",
   "metadata": {},
   "source": [
    "# Задание 3"
   ]
  },
  {
   "cell_type": "markdown",
   "metadata": {},
   "source": [
    "Необходимо написать программу, которая будет запрашивать у пользователя месяц и дату рождения и выводить соответствующий знак зодиака.\n",
    "\n",
    "Пример работы программы:\n",
    "\n",
    "Введите день:\n",
    "30\n",
    "\n",
    "Введите месяц:\n",
    "Август\n",
    "Результат:\n",
    "Ваш знак зодиака: Дева\n",
    "\n",
    "Введите день:\n",
    "29\n",
    "\n",
    "Введите месяц:\n",
    "Октябрь\n",
    "Результат:\n",
    "Ваш знак зодиака: Скорпион"
   ]
  },
  {
   "cell_type": "code",
   "execution_count": 12,
   "metadata": {},
   "outputs": [
    {
     "name": "stdout",
     "output_type": "stream",
     "text": [
      "введите день: 11\n",
      "введите месяц: декабрь\n",
      "ваш знак Зодиака: Стрелец\n"
     ]
    }
   ],
   "source": [
    "dd = int(input(\"введите день: \"))\n",
    "mm = str(input(\"введите месяц: \"))\n",
    "out = str(\"ваш знак Зодиака:\")\n",
    "if (dd >= 22 and dd <= 31 and mm == \"декабрь\") or (mm == \"январь\" and dd >= 1 and dd <= 20):\n",
    "    print (out, \"Козерог\")\n",
    "elif (dd >= 21 and dd <= 31 and mm == \"январь\") or (mm == \"февраль\" and dd >= 1 and dd <= 18):\n",
    "    print (out, \"Водолей\")\n",
    "elif (dd >= 19 and dd <= 29 and mm == \"февраль\") or (mm == \"март\" and dd >= 1 and dd <= 20):\n",
    "    print(out, \"Рыбы\")\n",
    "elif (dd >= 21 and dd <= 31 and mm == \"март\") or (mm == \"апрель\" and dd >= 1 and dd <= 19):\n",
    "    print (out, \"Овен\")\n",
    "elif (dd >= 20 and dd <= 30 and mm == \"апрель\") or (mm == \"май\" and dd >= 1 and dd <= 20):\n",
    "    print (out, \"Телец\")\n",
    "elif (dd >= 21 and dd <= 31 and mm == \"май\") or (mm == \"июнь\" and dd >= 1 and dd <= 21):\n",
    "    print(out, \"Близнецы\")\n",
    "elif (dd >= 22 and dd <= 30 and mm == \"июнь\") or (mm == \"июль\" and dd >= 1 and dd <= 22):\n",
    "    print (out, \"Рак\")\n",
    "elif (dd >= 23 and dd <= 31 and mm == \"июль\") or (mm == \"август\" and dd >= 1 and dd <= 22):\n",
    "    print (out, \"Лев\")\n",
    "elif (dd >= 23 and dd <= 31 and mm == \"август\") or (mm == \"сентябрь\" and dd >= 1 and dd <= 22):\n",
    "    print (out, \"Дева\")\n",
    "elif (dd >= 23 and dd <= 30 and mm == \"сентябрь\") or (mm == \"октябрь\" and dd >= 1 and dd <= 23):\n",
    "    print (out, \"Весы\")\n",
    "elif (dd >= 24 and dd <= 31 and mm == \"октябрь\") or (mm  ==  \"ноябрь\" and dd  >=  1 and dd  <=  22):\n",
    "    print(out, \"Скорпион\")\n",
    "elif (dd >= 23 and dd <= 30 and mm == \"ноябрь\") or (mm == \"декабрь\" and dd >= 1 and dd <= 21):\n",
    "    print (out, \"Стрелец\")"
   ]
  },
  {
   "cell_type": "markdown",
   "metadata": {},
   "source": [
    "# Задание 4"
   ]
  },
  {
   "cell_type": "markdown",
   "metadata": {},
   "source": [
    "Вам нужно написать программу для подбора упаковок по размерам товара. Размеры (ширина, длина, высота) хранятся в переменных (в сантиметрах):\n",
    "\n",
    "Используйте следующие правила:\n",
    "\n",
    "если каждое из трех измерений менее 15 сантиметров, то выведите на экран \"Коробка №1\";\n",
    "если хотя бы одно из измерений больше 15 сантиметров, но менее 50 сантиметров, то выводите \"Коробка №2\";\n",
    "если длина товара больше 2 метров, то выводите \"Упаковка для лыж\";\n",
    "во всех остальных случаях выводите \"Стандартная коробка №3\".\n",
    "Пример работы программы:\n",
    "\n",
    "width = 15\n",
    "length = 50\n",
    "height = 15\n",
    "Результат:\n",
    "Стандартная коробка №3\n",
    "\n",
    "width = 45\n",
    "length = 205\n",
    "height = 45\n",
    "Результат:\n",
    "Ищите упаковку для лыж"
   ]
  },
  {
   "cell_type": "code",
   "execution_count": 24,
   "metadata": {},
   "outputs": [
    {
     "name": "stdout",
     "output_type": "stream",
     "text": [
      "Введите размеры коробки в сантиметрах (Ш x Д x В)\n",
      "ширина: 201\n",
      "длина: 55\n",
      "высота: 16\n",
      "Стандартная коробка №3\n"
     ]
    }
   ],
   "source": [
    "print (\"Введите размеры коробки в сантиметрах (Ш x Д x В)\")\n",
    "w = int(input(\"ширина: \"))\n",
    "l = int(input(\"длина: \"))\n",
    "h = int(input(\"высота: \"))\n",
    "if l >= 200:\n",
    "    print (\"Упаковка для лыж\")\n",
    "elif w < 15 and l < 15 and h < 15:\n",
    "    print (\"Коробка №1\")\n",
    "elif 15 <= w <= 50 and 15 <= l <= 50 and 15 <= h <= 50:\n",
    "    print (\"Коробка №2\")\n",
    "else:\n",
    "    print (\"Стандартная коробка №3\")"
   ]
  },
  {
   "cell_type": "markdown",
   "metadata": {},
   "source": [
    "Дана переменная, в которой хранится шестизначное число (номер проездного билета). Напишите программу, которая будет определять, является ли данный билет “счастливым”. Билет считается счастливым, если сумма первых трех цифр совпадает с суммой последних трех цифр номера.\n",
    "\n",
    "Примеры работы программы:\n",
    "\n",
    "number = 123456\n",
    "Результат:\n",
    "Неасчастливый билет\n",
    "\n",
    "number = 123321\n",
    "Результат:\n",
    "Счастливый билет"
   ]
  },
  {
   "cell_type": "code",
   "execution_count": 30,
   "metadata": {},
   "outputs": [
    {
     "name": "stdout",
     "output_type": "stream",
     "text": [
      "Сумма: 21\n"
     ]
    }
   ],
   "source": [
    "ticket_num = int(123456)\n",
    "sum1 = 0\n",
    "sum2 = 0\n",
    "while ticket_num > 0:\n",
    "    digit = ticket_num % 10\n",
    "    sum1 = sum1 + digit\n",
    "    ticket_num = ticket_num // 10\n",
    "print(\"Сумма:\", sum1)"
   ]
  },
  {
   "cell_type": "code",
   "execution_count": null,
   "metadata": {},
   "outputs": [],
   "source": []
  }
 ],
 "metadata": {
  "kernelspec": {
   "display_name": "Python 3",
   "language": "python",
   "name": "python3"
  },
  "language_info": {
   "codemirror_mode": {
    "name": "ipython",
    "version": 3
   },
   "file_extension": ".py",
   "mimetype": "text/x-python",
   "name": "python",
   "nbconvert_exporter": "python",
   "pygments_lexer": "ipython3",
   "version": "3.8.5"
  }
 },
 "nbformat": 4,
 "nbformat_minor": 4
}
